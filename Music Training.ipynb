{
 "cells": [
  {
   "cell_type": "code",
   "execution_count": 47,
   "metadata": {},
   "outputs": [],
   "source": [
    "import random\n",
    "from enum import Enum\n"
   ]
  },
  {
   "cell_type": "code",
   "execution_count": 48,
   "metadata": {},
   "outputs": [],
   "source": [
    "class Patterns(Enum):\n",
    "    major = 1\n",
    "    natural_minor = 2\n"
   ]
  },
  {
   "cell_type": "code",
   "execution_count": 49,
   "metadata": {},
   "outputs": [],
   "source": [
    "notes     = ['C', 'C#/Db', 'D', 'D#/Eb', 'E', 'F', 'F#/Gb', 'G', 'G#/Ab', 'A', 'A#/Bb', 'B']\n",
    "keys      = [['C',0], ['G',1], ['D',2], ['A',3], ['E',4], ['B',5], ['F#/Gb',6], ['Db',-5], ['Ab',-4], ['Eb',-3], ['Bb', -2], ['F',-1]]\n",
    "intervals = ['P1','m2','M2','m3','M3','P4','a4/d5','P5','m6','M6','m7','M7']\n",
    "\n",
    "major_scale         = [  1,  2,  3,  4,  5,  6,  7,  8 ]\n",
    "natural_minor_scale = [  1,  2, -3,  4,  5, -6, -7,  8 ]\n",
    "major_intervals     = [  0,  2,  2,  1,  2,  2,  2,  1 ]\n",
    "\n",
    "practices = [\n",
    "    'scales/intervals on guitar',\n",
    "    'scales/intervals on keyboard',\n",
    "]\n"
   ]
  },
  {
   "cell_type": "code",
   "execution_count": 50,
   "metadata": {},
   "outputs": [],
   "source": [
    "# Return the simple offset from the tone name string entry and integer offset (i.e., ['cb',-3] ==> 'G' )\n",
    "def relativeToneLetter(tone, offset):\n",
    "    width = ord('G') - ord('A') + 1\n",
    "    i = ord(tone[0].upper()) + offset\n",
    "    if (i < ord('A')): i += width\n",
    "    if (i > ord('G')): i -= width\n",
    "    return chr(i)\n",
    "\n",
    "\n",
    "# Return the full tone name from a string entry (i.e., 'bb' ==> 'A#/Bb')\n",
    "def fullToneName(tone):\n",
    "    if len(tone) < 2: return tone.upper()\n",
    "    tone_name = tone[0].upper() + tone[-1:]\n",
    "    if (tone_name[1] == 'b'):\n",
    "        tone_name = relativeToneLetter(tone_name[0],-1) + '#/' + tone_name\n",
    "    elif (tone_name[1] == '#'):\n",
    "        tone_name = tone_name + '/' + relativeToneLetter(tone_name[0],1) + 'b'\n",
    "    try:\n",
    "        i = notes.index(tone_name)\n",
    "        return tone_name\n",
    "    except ValueError:\n",
    "        return 'X'\n"
   ]
  },
  {
   "cell_type": "code",
   "execution_count": 51,
   "metadata": {},
   "outputs": [],
   "source": [
    "# Take a scale as an array of strings, and select any split note names\n",
    "# like \"C#/Db\" to create a well-ordered scale\n",
    "def adjustScale(scale):\n",
    "    root = scale[0]\n",
    "    if root == 'F' or (len(root) > 1 and root[1] == 'b'):\n",
    "        flat = True\n",
    "    else:\n",
    "        flat = False\n",
    "    letter = root[0]\n",
    "    new_scale = []\n",
    "    for i, tone in enumerate(scale):\n",
    "        if i == 0:\n",
    "            new_scale.append(root)\n",
    "        else:\n",
    "            note = tone\n",
    "            if tone[0] != relativeToneLetter(letter,1):\n",
    "                if len(tone) == 1:\n",
    "                    if tone[0] == letter:\n",
    "                        note = relativeToneLetter(letter,1) + 'b'\n",
    "                    else:\n",
    "                        note = relativeToneLetter(letter,1) + '#'\n",
    "                else:\n",
    "                    note = tone.split('/')[1]\n",
    "            elif len(tone) > 2:\n",
    "                note = tone.split('/')[1 if flat else 0]\n",
    "            letter = note[0]\n",
    "            new_scale.append(note)\n",
    "    return new_scale\n"
   ]
  },
  {
   "cell_type": "code",
   "execution_count": 52,
   "metadata": {},
   "outputs": [],
   "source": [
    "# Return a scale as an array of strings for a given 'root' note string\n",
    "# like \"Ab\", and a 'pattern' designation like Pattern.major. The major\n",
    "# diatonic scale will be returned if the 'pattern' argument is left out.\n",
    "def getScale(root, pattern=Patterns.major):\n",
    "    scale = []\n",
    "    tone = notes.index(fullToneName(root))\n",
    "\n",
    "    scale_pattern = major_scale\n",
    "    if (pattern == Patterns.natural_minor):\n",
    "        scale_pattern = natural_minor_scale\n",
    "\n",
    "    for degree in scale_pattern:\n",
    "        tone = (tone + major_intervals[abs(degree)-1]) % len(notes)\n",
    "        scale.append(notes[ (tone-1) if degree < 0 else tone ])\n",
    "\n",
    "    scale[0] = root.upper()\n",
    "    if len(scale[0]) > 1 and scale[0][1] == 'B':\n",
    "        scale[0] = scale[0][0] + 'b'\n",
    "\n",
    "    return adjustScale(scale)\n"
   ]
  },
  {
   "cell_type": "markdown",
   "metadata": {},
   "source": [
    "## Reference\n",
    "\n",
    "<pre>\n",
    "Major scale: 1 2 3 4 5 6 7 8'\n",
    "  intervals:  W W H W W W H\n",
    "\n",
    "Natural minor scale: 1 2 <sup>b</sup>3 4 5 6 7 8'\n",
    "          intervals:  W H  W W H W W\n",
    "</pre>\n",
    "\n",
    "A *natural* minor scale can be built from the same set of notes as a major scale. The key of the natural minor is the 6<sup>th</sup> degree of the major scale.\n"
   ]
  },
  {
   "cell_type": "markdown",
   "metadata": {},
   "source": [
    "## Get a Random Key and its Major Scale"
   ]
  },
  {
   "cell_type": "code",
   "execution_count": 53,
   "metadata": {
    "tags": []
   },
   "outputs": [
    {
     "name": "stdout",
     "output_type": "stream",
     "text": [
      "A\n"
     ]
    },
    {
     "data": {
      "text/plain": [
       "['A', 'B', 'C#', 'D', 'E', 'F#', 'G#', 'A']"
      ]
     },
     "execution_count": 53,
     "metadata": {},
     "output_type": "execute_result"
    }
   ],
   "source": [
    "key = random.randint(0, len(keys)-1)\n",
    "print(keys[key][0])\n",
    "\n",
    "getScale(keys[key][0])\n"
   ]
  },
  {
   "cell_type": "markdown",
   "metadata": {},
   "source": [
    "# What Notes are in the Harmonic Series?"
   ]
  },
  {
   "cell_type": "code",
   "execution_count": 54,
   "metadata": {},
   "outputs": [],
   "source": [
    "import math\n",
    "\n",
    "# Returns frequency of a note in Hz (i.e., the freq of middle C would be freq('C',4) ==> 261.625...)\n",
    "def freq(note, octave):\n",
    "    x = 12*(octave-4)+notes.index(note)-9\n",
    "    return 440.*(2**(1./12.))**x\n",
    "\n",
    "\n",
    "# Returns the closest note letter, octave, and deviation from center (in cent) to a given frequency (i.e., note(261.3) ==> ('C', 4, -2.1556...))\n",
    "def note(freq_in):\n",
    "    x = math.log(freq_in / 440., 2**(1./12.))\n",
    "    octave = int(4 + (x + 9)/12)\n",
    "    note_a = int((x + 9) % 12)\n",
    "\n",
    "    f = freq(notes[note_a],octave)\n",
    "    cent = 1200.*math.log2(freq_in/f)\n",
    "    if abs(cent) > 50:\n",
    "        note_a = (note_a + 1) if note_a < 11 else 0\n",
    "        octave += 1 if note_a == 0 else 0\n",
    "        f = freq(notes[note_a],octave)\n",
    "        cent = 1200.*math.log2(freq_in/f)\n",
    "\n",
    "    return(notes[note_a], octave, cent)\n",
    "\n",
    "# Returns the index into the notes[] array for the given note name (i.e., note_index('bb') ==> 10)\n",
    "def note_index(note):\n",
    "    if len(note) == 1:\n",
    "        return notes.index(note.upper())\n",
    "    else:\n",
    "        a = note[0].upper() + note[1]\n",
    "        for i in range(len(notes)):\n",
    "            if notes[i].find(a) != -1:\n",
    "                return i\n",
    "    return -1\n",
    "\n",
    "# Returns the musical interval between the given root and target notes (i.e., interval('bb','g#') ==> 'm7')\n",
    "def interval(root, note):\n",
    "    ir = note_index(root)\n",
    "    iv = note_index(note)\n",
    "    d = ((iv - ir) + (12 if ((iv - ir) < 0) else 0)) % 12\n",
    "    return intervals[d]"
   ]
  },
  {
   "cell_type": "code",
   "execution_count": 55,
   "metadata": {},
   "outputs": [
    {
     "name": "stdout",
     "output_type": "stream",
     "text": [
      "Harmonic series of middle C:\n",
      " Harm   Freq[Hz]    Note   Err    Int\n",
      "   1     261.63       C4    +0      P1\n",
      "   2     523.25       C5    -0      P1\n",
      "   3     784.88       G5    +2      P5\n",
      "   4    1046.50       C6    -0      P1\n",
      "   5    1308.13       E6   -14      M3\n",
      "   6    1569.75       G6    +2      P5\n",
      "   7    1831.38   A#/Bb6   -31      m7\n",
      "   8    2093.00       C7    -0      P1\n",
      "   9    2354.63       D7    +4      M2\n",
      "  10    2616.26       E7   -14      M3\n",
      "  11    2877.88   F#/Gb7   -49   a4/d5\n",
      "  12    3139.51       G7    +2      P5\n",
      "  13    3401.13   G#/Ab7   +41      m6\n",
      "  14    3662.76   A#/Bb7   -31      m7\n",
      "  15    3924.38       B7   -12      M7\n",
      "...\n"
     ]
    }
   ],
   "source": [
    "C4 = freq('C',4)\n",
    "\n",
    "print('Harmonic series of middle C:')\n",
    "\n",
    "print(f' Harm   Freq[Hz]    Note   Err    Int')\n",
    "for i in range(15):\n",
    "    h = i+1\n",
    "    f = C4*h\n",
    "    n,o,c = note(f)\n",
    "    iv = interval('C',n)\n",
    "    print(f'  {h:2d}    {f:7.2f}   {n:>5s}{o}   {c:+3.0f}   {iv:>5s}')\n",
    "\n",
    "print('...')\n"
   ]
  },
  {
   "cell_type": "markdown",
   "metadata": {},
   "source": [
    "# Get a random modal key and search for a backing track"
   ]
  },
  {
   "cell_type": "code",
   "execution_count": 119,
   "metadata": {},
   "outputs": [
    {
     "name": "stdout",
     "output_type": "stream",
     "text": [
      "F Ionian\n"
     ]
    },
    {
     "data": {
      "application/vnd.jupyter.widget-view+json": {
       "model_id": "5f63dfda83d348a0afb42ebc91168f7b",
       "version_major": 2,
       "version_minor": 0
      },
      "text/plain": [
       "Button(description='Find a backing track', style=ButtonStyle())"
      ]
     },
     "metadata": {},
     "output_type": "display_data"
    }
   ],
   "source": [
    "note_names = ['C', 'C#', 'Db', 'D', 'D#', 'Eb', 'E', 'F', 'F#', 'Gb', 'G',\n",
    "    'G#', 'Ab', 'A', 'A#', 'Bb', 'B']\n",
    "modes = ['Ionian', 'Dorian', 'Phrygian', 'Lydian', 'Mixolydian', 'Aeolian', 'Locrian']\n",
    "\n",
    "key = random.randint(0, len(note_names)-1)\n",
    "mode = random.randint(0, len(modes)-1)\n",
    "print(note_names[key] + \" \" + modes[mode])\n",
    "\n",
    "import urllib\n",
    "\n",
    "url = \"https://www.youtube.com/results?search_query=backing+track+\" \\\n",
    "    + urllib.parse.quote(note_names[key]) + \"+\" + modes[mode]\n",
    "\n",
    "import webbrowser\n",
    "import ipywidgets as widgets\n",
    "\n",
    "button = widgets.Button(description='Find a backing track')\n",
    "\n",
    "def on_button_click(b):\n",
    "    webbrowser.open(url)\n",
    "\n",
    "button.on_click(on_button_click)\n",
    "button\n"
   ]
  }
 ],
 "metadata": {
  "kernelspec": {
   "display_name": "Python 3.8.10 64-bit (microsoft store)",
   "language": "python",
   "name": "python3"
  },
  "language_info": {
   "codemirror_mode": {
    "name": "ipython",
    "version": 3
   },
   "file_extension": ".py",
   "mimetype": "text/x-python",
   "name": "python",
   "nbconvert_exporter": "python",
   "pygments_lexer": "ipython3",
   "version": "3.8.10"
  },
  "vscode": {
   "interpreter": {
    "hash": "02d2d2af66a91fc4cc06ab9c2906281cc165b250d205ac7ac94a12c83b32f3cb"
   }
  }
 },
 "nbformat": 4,
 "nbformat_minor": 4
}
