{
 "cells": [
  {
   "cell_type": "markdown",
   "metadata": {},
   "source": [
    "# General Code"
   ]
  },
  {
   "cell_type": "code",
   "execution_count": 1,
   "metadata": {},
   "outputs": [],
   "source": [
    "# imports\n",
    "import time\n",
    "import math\n",
    "import random\n",
    "from enum import Enum\n",
    "import webbrowser\n",
    "import ipywidgets as widgets\n",
    "import urllib\n",
    "import numpy as np\n",
    "import pyaudio\n",
    "from IPython.display import display, HTML"
   ]
  },
  {
   "cell_type": "code",
   "execution_count": 2,
   "metadata": {},
   "outputs": [
    {
     "data": {
      "text/html": [
       "<style>.cell-output-ipywidget-background { background-color: transparent !important; }.jp-OutputArea-output             { background-color: transparent; }h1 { display: inline; font-size: 60px; font-family: Serif; }</style>"
      ],
      "text/plain": [
       "<IPython.core.display.HTML object>"
      ]
     },
     "metadata": {},
     "output_type": "display_data"
    }
   ],
   "source": [
    "# setup style for embedded HTML output / ipywidgets\n",
    "display(HTML(\n",
    "'<style>'\\\n",
    "   '.cell-output-ipywidget-background { background-color: transparent !important; }'\\\n",
    "   '.jp-OutputArea-output             { background-color: transparent; }'\\\n",
    "   'h1 { display: inline; font-size: 60px; font-family: Serif; }'\\\n",
    "'</style>'))"
   ]
  },
  {
   "cell_type": "code",
   "execution_count": 3,
   "metadata": {},
   "outputs": [],
   "source": [
    "# definitions/lists\n",
    "class Patterns(Enum):\n",
    "    major = 1\n",
    "    natural_minor = 2\n",
    "\n",
    "notes           = ['C', 'C#/Db', 'D', 'D#/Eb', 'E', 'F', 'F#/Gb', 'G', 'G#/Ab', 'A', 'A#/Bb', 'B']\n",
    "note_names      = ['C', 'C#', 'Db', 'D', 'D#', 'Eb', 'E', 'F', 'F#', 'Gb', 'G', 'G#', 'Ab', 'A', 'A#', 'Bb', 'B']\n",
    "keys            = [['C',0], ['G',1], ['D',2], ['A',3], ['E',4], ['B',5], ['F#/Gb',6], ['Db',-5], ['Ab',-4], ['Eb',-3], ['Bb', -2], ['F',-1]]\n",
    "intervals       = ['P1', 'm2/m9', 'M2/M9', 'm3', 'M3', 'P4/P11', 'a4/d5', 'P5', 'a5/m6/m13', 'M6/M13/bb7', 'm7', 'M7']\n",
    "interval_ratios = [1/1, 16/15, 9/8, 6/5, 5/4, 4/3, 45/32, 3/2, 8/5, 5/3, 9/5, 15/8, 2/1]\n",
    "modes           = ['Ionian', 'Dorian', 'Phrygian', 'Lydian', 'Mixolydian', 'Aeolian', 'Locrian']\n",
    "chords          = [\n",
    "    ['',       ['P1','M3','P5']],\n",
    "    ['m',      ['P1','m3','P5']],\n",
    "    ['dim',    ['P1','m3','d5']],\n",
    "    ['aug',    ['P1','M3','a5']],\n",
    "    ['sus2',   ['P1','M2','P5']],\n",
    "    ['sus4',   ['P1','P4','P5']],\n",
    "    ['sus',    ['P1','P4','P5']],\n",
    "    ['m6',     ['P1','m3','P5','M6']],\n",
    "    ['6',      ['P1','M3','P5','M6']],\n",
    "    ['dim7',   ['P1','m3','d5','bb7']],\n",
    "    ['m7b5',   ['P1','m3','d5','m7']],\n",
    "    ['m7',     ['P1','m3','P5','m7']],\n",
    "    ['7',      ['P1','M3','P5','m7']],\n",
    "    ['maj7',   ['P1','M3','P5','M7']],\n",
    "    ['m(add9)',['P1','m3','P5','M9']],\n",
    "    ['add9',   ['P1','M3','P5','M9']]\n",
    "]\n",
    "\n",
    "major_scale         = [  1,  2,  3,  4,  5,  6,  7,  8 ]\n",
    "natural_minor_scale = [  1,  2, -3,  4,  5, -6, -7,  8 ]\n",
    "major_intervals     = [  0,  2,  2,  1,  2,  2,  2,  1 ]\n",
    "\n",
    "practices = [\n",
    "    'scales/intervals on guitar',\n",
    "    'scales/intervals on keyboard',\n",
    "]"
   ]
  },
  {
   "cell_type": "code",
   "execution_count": 4,
   "metadata": {},
   "outputs": [],
   "source": [
    "# note functions\n",
    "def relativeToneLetter(tone, offset):\n",
    "    \"\"\"Return the simple offset from a tone name and integer offset\n",
    "       i.e., relativeToneLetter('cb',-3) ==> 'G'\n",
    "    \"\"\"\n",
    "    width = ord('G') - ord('A') + 1\n",
    "    i = ord(tone[0].upper()) + offset\n",
    "    if (i < ord('A')): i += width\n",
    "    if (i > ord('G')): i -= width\n",
    "    return chr(i)\n",
    "\n",
    "def fullToneName(tone):\n",
    "    \"\"\"Return the full tone name from a simple entry\n",
    "       i.e., fullToneName('bb') ==> 'A#/Bb'\n",
    "    \"\"\"\n",
    "    if len(tone) < 2: return tone.upper()\n",
    "    tone_name = tone[0].upper() + tone[-1:]\n",
    "    if (tone_name[1] == 'b'):\n",
    "        tone_name = relativeToneLetter(tone_name[0],-1) + '#/' + tone_name\n",
    "    elif (tone_name[1] == '#'):\n",
    "        tone_name = tone_name + '/' + relativeToneLetter(tone_name[0],1) + 'b'\n",
    "    try:\n",
    "        i = notes.index(tone_name)\n",
    "        return tone_name\n",
    "    except ValueError:\n",
    "        return 'X'\n",
    "\n",
    "def adjustScale(scale):\n",
    "    \"\"\"Take a scale as an array of strings, and select any split note names\n",
    "       like \"C#/Db\" to create a well-ordered scale\n",
    "    \"\"\"\n",
    "    root = scale[0]\n",
    "    if root == 'F' or (len(root) > 1 and root[1] == 'b'):\n",
    "        flat = True\n",
    "    else:\n",
    "        flat = False\n",
    "    letter = root[0]\n",
    "    new_scale = []\n",
    "    for i, tone in enumerate(scale):\n",
    "        if i == 0:\n",
    "            new_scale.append(root)\n",
    "        else:\n",
    "            note = tone\n",
    "            if tone[0] != relativeToneLetter(letter,1):\n",
    "                if len(tone) == 1:\n",
    "                    if tone[0] == letter:\n",
    "                        note = relativeToneLetter(letter,1) + 'b'\n",
    "                    else:\n",
    "                        note = relativeToneLetter(letter,1) + '#'\n",
    "                else:\n",
    "                    note = tone.split('/')[1]\n",
    "            elif len(tone) > 2:\n",
    "                note = tone.split('/')[1 if flat else 0]\n",
    "            letter = note[0]\n",
    "            new_scale.append(note)\n",
    "    return new_scale\n",
    "\n",
    "def getScale(root, pattern=Patterns.major):\n",
    "    \"\"\"Return a scale as an array of strings for a given root note and a pattern\n",
    "       designation like Patterns.major. The major diatonic scale will be returned\n",
    "       if the pattern argument is left out.\n",
    "    \"\"\"\n",
    "    scale = []\n",
    "    tone = notes.index(fullToneName(root))\n",
    "\n",
    "    scale_pattern = major_scale\n",
    "    if (pattern == Patterns.natural_minor):\n",
    "        scale_pattern = natural_minor_scale\n",
    "\n",
    "    for degree in scale_pattern:\n",
    "        tone = (tone + major_intervals[abs(degree)-1]) % len(notes)\n",
    "        scale.append(notes[ (tone-1) if degree < 0 else tone ])\n",
    "\n",
    "    scale[0] = root.upper()\n",
    "    if len(scale[0]) > 1 and scale[0][1] == 'B':\n",
    "        scale[0] = scale[0][0] + 'b'\n",
    "\n",
    "    return adjustScale(scale)\n",
    "\n",
    "def noteIndex(note):\n",
    "    \"\"\"Return the index into the notes[] array for the given note name\n",
    "       i.e., noteIndex('bb') ==> 10\n",
    "    \"\"\"\n",
    "    if len(note) == 1:\n",
    "        return notes.index(note.upper())\n",
    "    else:\n",
    "        a = note[0].upper() + note[1]\n",
    "        for i in range(len(notes)):\n",
    "            if notes[i].find(a) != -1:\n",
    "                return i\n",
    "    return -1\n",
    "\n",
    "def getInterval(root, note):\n",
    "    \"\"\"Return the musical interval between the given root and target notes\n",
    "       i.e., getInterval('bb','g#') ==> 'm7'\n",
    "    \"\"\"\n",
    "    ir = noteIndex(root)\n",
    "    iv = noteIndex(note)\n",
    "    d = ((iv - ir) + (12 if ((iv - ir) < 0) else 0)) % 12\n",
    "    return intervals[d]"
   ]
  },
  {
   "cell_type": "code",
   "execution_count": 5,
   "metadata": {},
   "outputs": [],
   "source": [
    "# frequency functions\n",
    "def noteToFreq(note, octave):\n",
    "    \"\"\"Returns the frequency of a note in Hz\n",
    "       i.e., the freq of middle C would be noteToFreq('C',4) ==> 261.625...\n",
    "    \"\"\"\n",
    "    x = 12*(octave-4)+notes.index(note)-9\n",
    "    return 440.*(2**(1./12.))**x\n",
    "\n",
    "def freqToNote(freq_in):\n",
    "    \"\"\"Return the closest note letter, octave, and deviation from center (in cent)\n",
    "       to a given frequency\n",
    "       i.e., freqToNote(261.3) ==> ('C', 4, -2.1556...)\n",
    "    \"\"\"\n",
    "    x = math.log(freq_in / 440., 2**(1./12.))\n",
    "    octave = int(4 + (x + 9)/12)\n",
    "    note_a = int((x + 9) % 12)\n",
    "\n",
    "    f = noteToFreq(notes[note_a],octave)\n",
    "    cent = 1200.*math.log2(freq_in/f)\n",
    "    if abs(cent) > 50:\n",
    "        note_a = (note_a + 1) if note_a < 11 else 0\n",
    "        octave += 1 if note_a == 0 else 0\n",
    "        f = noteToFreq(notes[note_a],octave)\n",
    "        cent = 1200.*math.log2(freq_in/f)\n",
    "\n",
    "    return(notes[note_a], octave, cent)\n",
    "\n",
    "def getIntervalRatio(interval):\n",
    "    \"\"\"Return the frequency ratio from an interval name\n",
    "       i.e., getIntervalRatio('d5') ==> 1.40625 (=45/32)\n",
    "    \"\"\"\n",
    "    for i in range(len(intervals)):\n",
    "        if intervals[i].find(interval) != -1:\n",
    "            break\n",
    "    interval_number = int(interval.replace('P','').replace('m','').replace('M','').replace('a','').replace('d','').replace('b',''))\n",
    "    if interval_number > 7:\n",
    "        return 2*interval_ratios[i]\n",
    "    return interval_ratios[i]"
   ]
  },
  {
   "cell_type": "code",
   "execution_count": 51,
   "metadata": {},
   "outputs": [],
   "source": [
    "# sound functions\n",
    "volume = 0.5                # range [0.0, 1.0]\n",
    "fs = 44100                  # sampling rate, Hz, must be integer\n",
    "fadeOut = int(fs * 0.05)    # fadeout waves for 0.1sec\n",
    "\n",
    "pyAudio = pyaudio.PyAudio()\n",
    "paStream = pyAudio.open(format=pyaudio.paFloat32, channels=1, rate=fs, output=True)\n",
    "\n",
    "def playWave(samples):\n",
    "    global volume, paStream\n",
    "    bytes = (volume * samples).tobytes()\n",
    "    paStream.write(bytes)\n",
    "\n",
    "def createWave(f,duration):\n",
    "    \"\"\"Return a sine wave at a frequency for a duration as an np.float32 array\n",
    "    fade out the wave to keep it from popping\n",
    "    \"\"\"\n",
    "    global fs, fadeOut\n",
    "    wave = (np.sin(2 * np.pi * np.arange(fs * duration) * f / fs)).astype(np.float32)\n",
    "    for i in range(fadeOut):\n",
    "        wave[-i] *= i/fadeOut\n",
    "    return wave\n",
    "\n",
    "def createChordWave(f_root,intervals,duration):\n",
    "    sample = 0*createWave(1,duration)\n",
    "    for tone in intervals:\n",
    "        f = f_root * getIntervalRatio(tone)\n",
    "        sample = np.add(sample,createWave(f,duration))\n",
    "    return sample / np.max(sample)\n",
    "\n",
    "def createNoteWaves(f_root,intervals,duration):\n",
    "    noteSamples = []\n",
    "    for note in intervals:\n",
    "        f = f_root * getIntervalRatio(note)\n",
    "        noteSamples.append(createWave(f,duration))\n",
    "    return noteSamples"
   ]
  },
  {
   "cell_type": "markdown",
   "metadata": {},
   "source": [
    "# Examples"
   ]
  },
  {
   "cell_type": "code",
   "execution_count": 7,
   "metadata": {
    "tags": []
   },
   "outputs": [
    {
     "name": "stdout",
     "output_type": "stream",
     "text": [
      "B : ['B', 'C#', 'D', 'E', 'F#', 'G', 'A', 'B']\n"
     ]
    }
   ],
   "source": [
    "# example: Get a random key and its natural minor scale\n",
    "key = random.randint(0, len(keys)-1)\n",
    "key_name = keys[key][0]\n",
    "scale = getScale(key_name,pattern=Patterns.natural_minor)\n",
    "\n",
    "print(f'{key_name} : {scale}')"
   ]
  },
  {
   "cell_type": "code",
   "execution_count": 8,
   "metadata": {},
   "outputs": [
    {
     "name": "stdout",
     "output_type": "stream",
     "text": [
      "Harmonic series of middle C:\n",
      " Harm   Freq[Hz]    Note   Err    Int\n",
      "   1     261.63       C4    +0      P1\n",
      "   2     523.25       C5    -0      P1\n",
      "   3     784.88       G5    +2      P5\n",
      "   4    1046.50       C6    -0      P1\n",
      "   5    1308.13       E6   -14      M3\n",
      "   6    1569.75       G6    +2      P5\n",
      "   7    1831.38   A#/Bb6   -31      m7\n",
      "   8    2093.00       C7    -0      P1\n",
      "   9    2354.63       D7    +4   M2/M9\n",
      "  10    2616.26       E7   -14      M3\n",
      "  11    2877.88   F#/Gb7   -49   a4/d5\n",
      "  12    3139.51       G7    +2      P5\n",
      "  13    3401.13   G#/Ab7   +41   a5/m6/m13\n",
      "  14    3662.76   A#/Bb7   -31      m7\n",
      "  15    3924.38       B7   -12      M7\n",
      "...\n"
     ]
    }
   ],
   "source": [
    "# example: What notes are in the harmonic series?\n",
    "C4 = noteToFreq('C',4)\n",
    "print('Harmonic series of middle C:')\n",
    "print(f' Harm   Freq[Hz]    Note   Err    Int')\n",
    "for i in range(15):\n",
    "    h = i+1\n",
    "    f = C4*h\n",
    "    n,o,c = freqToNote(f)\n",
    "    iv = getInterval('C',n)\n",
    "    print(f'  {h:2d}    {f:7.2f}   {n:>5s}{o}   {c:+3.0f}   {iv:>5s}')\n",
    "\n",
    "print('...')"
   ]
  },
  {
   "cell_type": "code",
   "execution_count": 36,
   "metadata": {},
   "outputs": [
    {
     "data": {
      "text/html": [
       "<h1>Db Phrygian</h1>"
      ],
      "text/plain": [
       "<IPython.core.display.HTML object>"
      ]
     },
     "metadata": {},
     "output_type": "display_data"
    },
    {
     "data": {
      "application/vnd.jupyter.widget-view+json": {
       "model_id": "c90d5be5da7a43d1ab3cd5b9d71b0b41",
       "version_major": 2,
       "version_minor": 0
      },
      "text/plain": [
       "Button(description='Find a backing track', style=ButtonStyle())"
      ]
     },
     "metadata": {},
     "output_type": "display_data"
    }
   ],
   "source": [
    "# example: Get a random modal key and search for a backing track\n",
    "key = random.randint(0, len(note_names)-1)\n",
    "mode = random.randint(0, len(modes)-1)\n",
    "\n",
    "modal_key = note_names[key] + \" \" + modes[mode]\n",
    "\n",
    "url = \"https://www.youtube.com/results?search_query=backing+track+\" + urllib.parse.quote(note_names[key]) + \"+\" + modes[mode]\n",
    "\n",
    "button = widgets.Button(description='Find a backing track')\n",
    "button.on_click(lambda b: webbrowser.open(url))\n",
    "\n",
    "display(HTML(f'<h1>{modal_key}</h1>'), button)"
   ]
  },
  {
   "cell_type": "code",
   "execution_count": 67,
   "metadata": {},
   "outputs": [
    {
     "data": {
      "text/html": [
       "<h1>G<sup>b</sup>dim7</h1>"
      ],
      "text/plain": [
       "<IPython.core.display.HTML object>"
      ]
     },
     "metadata": {},
     "output_type": "display_data"
    },
    {
     "data": {
      "application/vnd.jupyter.widget-view+json": {
       "model_id": "052c557d53d94ce7a3429a4a61374fef",
       "version_major": 2,
       "version_minor": 0
      },
      "text/plain": [
       "Button(description='Play', style=ButtonStyle())"
      ]
     },
     "metadata": {},
     "output_type": "display_data"
    },
    {
     "name": "stdout",
     "output_type": "stream",
     "text": [
      "['P1', 'm3', 'd5', 'bb7']\n"
     ]
    }
   ],
   "source": [
    "# example: Get a random chord\n",
    "note = random.randint(0, len(note_names)-1)\n",
    "note_name = note_names[note]\n",
    "\n",
    "chord_number = random.randint(0, len(chords)-1)\n",
    "chord_name = chords[chord_number][0]\n",
    "\n",
    "chord = note_name + chord_name\n",
    "\n",
    "f_root = noteToFreq(fullToneName(note_name),3)\n",
    "f_root *= 2 if f_root < 120 else 1\n",
    "\n",
    "# create a way to play it\n",
    "chordSample = createChordWave(f_root,chords[chord_number][1],1.0)\n",
    "noteSamples = createNoteWaves(f_root,chords[chord_number][1],0.5)\n",
    "\n",
    "playFlag = False\n",
    "def playClick(dummy):\n",
    "    global playFlag, chordSample, noteSample,htmlChord\n",
    "    if not playFlag:\n",
    "        print(chords[chord_number][1])\n",
    "        playFlag = True\n",
    "\n",
    "    playWave(chordSample)\n",
    "    time.sleep(0.25)\n",
    "    for sample in noteSamples:\n",
    "        playWave(sample)\n",
    "        time.sleep(0.25)\n",
    "    playWave(chordSample)\n",
    "\n",
    "htmlChord = chord.replace('b','<sup>b</sup>').replace('#','<sup>#</sup>')\n",
    "\n",
    "button = widgets.Button(description='Play')\n",
    "button.on_click(playClick)\n",
    "display(HTML(f'<h1>{htmlChord}</h1>'), button)"
   ]
  },
  {
   "cell_type": "markdown",
   "metadata": {},
   "source": [
    "# Reference"
   ]
  },
  {
   "cell_type": "markdown",
   "metadata": {},
   "source": [
    "<b>Triad practice</b> <i>[video](https://www.youtube.com/watch?v=xk9sLGu_KB0) 9:55-10:50, [video](https://www.youtube.com/watch?v=Lr_LLkozJ7Y)</i>\n",
    "\n",
    "<b>Solfege practice</b> <i>[video](https://www.google.com/search?q=learning+solfeig&rlz=1C1CHBF_enUS912US912&oq=learning+solfeig&aqs=chrome..69i57j33i10i160l3.2841j0j7&sourceid=chrome&ie=UTF-8#fpstate=ive&vld=cid:982b4cc3,vid:DKHP-rNSESE)</i>\n",
    "* Ascending maj7 chord notes, sing relative note before playing, the descending chord notes\n"
   ]
  },
  {
   "cell_type": "markdown",
   "metadata": {},
   "source": [
    "<pre>\n",
    "Major scale: 1 2 3 4 5 6 7 8'\n",
    "  intervals:  W W H W W W H\n",
    "\n",
    "Natural minor scale: 1 2 <sup>b</sup>3 4 5 <sup>b</sup>6 <sup>b</sup>7 8'\n",
    "          intervals:  W H  W W H  W  W\n",
    "</pre>\n",
    "\n",
    "A *natural* minor scale can be built from the same set of notes as a major scale. The key of the natural minor is the 6<sup>th</sup> degree of the major scale."
   ]
  },
  {
   "cell_type": "markdown",
   "metadata": {},
   "source": [
    "### Pattern System"
   ]
  },
  {
   "cell_type": "markdown",
   "metadata": {},
   "source": [
    "<pre>\n",
    "Patterns along a string:\n",
    "  X = 0 2 4\n",
    "  Y = 0 1 3\n",
    "  Z = 0 2 3\n",
    "\n",
    "Patterns accross strings (root is on first note):\n",
    "  1 Ionian     XX (YYZZ) = Major\n",
    "  2 Dorian     ZX (XXYY)\n",
    "  3 Phrygian   YZ (ZXXX)\n",
    "  4 Lydian     XY (YZZX)\n",
    "  5 Mixolydian XXX (YYZ)\n",
    "  6 Aeolian    ZZ (XXXY) = Natural Minor\n",
    "  7 Locrian    YY (ZZXX)\n",
    "\n",
    "Rules across strings:\n",
    "  1. Move up a fret from X to Y pattern\n",
    "  2. Move up a fret from G string to B string\n",
    "\n",
    "Rules along strings:\n",
    "  1. Start next pattern on next fret from pattern X to X\n",
    "  2. Start next pattern on 2nd fret after any other patterns\n",
    "</pre>\n"
   ]
  },
  {
   "cell_type": "markdown",
   "metadata": {},
   "source": [
    "### Pentatonic Shapes"
   ]
  },
  {
   "cell_type": "markdown",
   "metadata": {},
   "source": [
    "<pre>\n",
    "<b>Major</b> - R 2 3 5 6\n",
    "╒═════╤══R══╤═════╤══2══╕   ╒═════╤══2══╤═════╤══3══╤═════╕   ╒══3══╤═════╤═════╤══5══╕\n",
    "╞══3══╪═════╪═════╪══5══╡   ╞═════╪══5══╪═════╪══6══╪═════╡   ╞══6══╪═════╪═════╪══R══╡\n",
    "╞══6══╪═════╪═════╪══R══╡   ╞═════╪══R══╪═════╪══2══╪═════╡   ╞══2══╪═════╪══3══╪═════╡\n",
    "╞══2══╪═════╪══3══╪═════╡   ╞══3══╪═════╪═════╪══5══╪═════╡   ╞══5══╪═════╪══6══╪═════╡\n",
    "├─────┼──5──┼─────┼──6──┤   ├─────┼──6──┼─────┼─────┼──R──┤   ├─────┼──R──┼─────┼──2──┤\n",
    "└─────┴──R──┴─────┴──2──┘   └─────┴──2──┴─────┴──3──┴─────┘   └──3──┴─────┴─────┴──5──┘\n",
    "╒═════╤══5══╤═════╤══6══╕   ╒══6══╤═════╤═════╤══R══╕\n",
    "╞═════╪══R══╪═════╪══2══╡   ╞══2══╪═════╪══3══╪═════╡\n",
    "╞══3══╪═════╪═════╪══5══╡   ╞══5══╪═════╪══6══╪═════╡\n",
    "╞══6══╪═════╪═════╪══R══╡   ╞══R══╪═════╪══2══╪═════╡\n",
    "├─────┼──2──┼─────┼──3──┤   ├──3──┼─────┼─────┼──5──┤\n",
    "└─────┴──5──┴─────┴──6──┘   └──6──┴─────┴─────┴──R──┘\n",
    "\n",
    "<b>Minor</b> - R b3 4 5 b7\n",
    "╒══R══╤═════╤═════╤═b3══╕   ╒═════╤═b3══╤═════╤══4══╕   ╒═════╤══4══╤═════╤══5══╤═════╕\n",
    "╞══4══╪═════╪══5══╪═════╡   ╞══5══╪═════╪═════╪═b7══╡   ╞═════╪═b7══╪═════╪══R══╪═════╡\n",
    "╞═b7══╪═════╪══R══╪═════╡   ╞══R══╪═════╪═════╪═b3══╡   ╞═════╪═b3══╪═════╪══4══╪═════╡\n",
    "╞═b3══╪═════╪══4══╪═════╡   ╞══4══╪═════╪══5══╪═════╡   ╞══5══╪═════╪═════╪═b7══╪═════╡\n",
    "├──5──┼─────┼─────┼─b7──┤   ├─────┼─b7──┼─────┼──R──┤   ├─────┼──R──┼─────┼─────┼─b3──┤\n",
    "└──R──┴─────┴─────┴─b3──┘   └─────┴─b3──┴─────┴──4──┘   └─────┴──4──┴─────┴──5──┴─────┘\n",
    "╒══5══╤═════╤═════╤═b7══╕   ╒═════╤═b7══╤═════╤══R══╕\n",
    "╞══R══╪═════╪═════╪═b3══╡   ╞═════╪═b3══╪═════╪══4══╡\n",
    "╞══4══╪═════╪══5══╪═════╡   ╞══5══╪═════╪═════╪═b7══╡\n",
    "╞═b7══╪═════╪══R══╪═════╡   ╞══R══╪═════╪═════╪═b3══╡\n",
    "├─────┼─b3──┼─────┼──4──┤   ├─────┼──4──┼─────┼──5──┤\n",
    "└──5──┴─────┴─────┴─b7──┘   └─────┴─b7──┴─────┴──R──┘\n",
    "</pre>"
   ]
  },
  {
   "cell_type": "markdown",
   "metadata": {},
   "source": [
    "### Chord Shapes"
   ]
  },
  {
   "cell_type": "markdown",
   "metadata": {},
   "source": [
    "<pre>\n",
    "      <b>1</b> (E)              <b>2</b> (C)              <b>3</b> (A)              <b>4</b> (F)              <b>5</b> (D)\n",
    "╔══X══╦══╦══╤══X   X══╦══╦══╦══╤══X   X══╦══╦══╦══╤══X   X══X══╦══╦══╤══╕   X══X══╦══╦══╤══╕\n",
    "R  ║  ║  ║  5  │   ║  ║  ║  5  │  │   ║  R  ║  ║  │  │   ║  ║  ║  ║  5──R   ║  ║  R  ║  │  │\n",
    "╟──╫──╫──╫──┼──┤   ╟──╫──╫──╫──┼──┤   ╟──╫──╫──╫──┼──┤   ╟──╫──╫──╫──┼──┤   ╟──╫──╫──╫──┼──┤\n",
    "║  ║  ║  3  │  │   ║  ║  ║  ║  R  │   ║  ║  ║  ║  │  │   ║  ║  ║  3  │  │   ║  ║  ║  ║  │  │\n",
    "╟──╫──╫──╫──┼──┤   ╟──╫──╫──╫──┼──┤   ╟──╫──╫──╫──┼──┤   ╟──╫──╫──╫──┼──┤   ╟──╫──╫──╫──┼──┤\n",
    "║  ║  R  ║  │  │   ║  ║  3  ║  │  │   ║  ║  5  R  3  │   ║  ║  R  ║  │  │   ║  ║  ║  5  │  3\n",
    "╟──╫──╫──╫──┼──┤   ╟──╫──╫──╫──┼──┤   ╟──╫──╫──╫──┼──┤   ╟──╫──╫──╫──┼──┤   ╟──╫──╫──╫──┼──┤\n",
    "║  ║  ║  ║  │  │   ║  R  ║  ║  │  │   ║  ║  ║  ║  │  │   ║  ║  ║  ║  │  │   ║  ║  ║  ║  R  │\n",
    "╟──╫──╫──╫──┼──┤   ╟──╫──╫──╫──┼──┤   ╟──╫──╫──╫──┼──┤   ╟──╫──╫──╫──┼──┤   ╟──╫──╫──╫──┼──┤"
   ]
  }
 ],
 "metadata": {
  "kernelspec": {
   "display_name": "Python 3.8.10 64-bit (microsoft store)",
   "language": "python",
   "name": "python3"
  },
  "language_info": {
   "codemirror_mode": {
    "name": "ipython",
    "version": 3
   },
   "file_extension": ".py",
   "mimetype": "text/x-python",
   "name": "python",
   "nbconvert_exporter": "python",
   "pygments_lexer": "ipython3",
   "version": "3.8.10"
  },
  "vscode": {
   "interpreter": {
    "hash": "02d2d2af66a91fc4cc06ab9c2906281cc165b250d205ac7ac94a12c83b32f3cb"
   }
  }
 },
 "nbformat": 4,
 "nbformat_minor": 4
}
