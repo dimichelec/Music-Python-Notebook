{
 "cells": [
  {
   "cell_type": "code",
   "execution_count": 15,
   "metadata": {},
   "outputs": [],
   "source": [
    "import random\n",
    "from enum import Enum\n"
   ]
  },
  {
   "cell_type": "code",
   "execution_count": 16,
   "metadata": {},
   "outputs": [],
   "source": [
    "class Patterns(Enum):\n",
    "    major = 1\n",
    "    natural_minor = 2\n"
   ]
  },
  {
   "cell_type": "code",
   "execution_count": 17,
   "metadata": {},
   "outputs": [],
   "source": [
    "keys = [ ['C',0], ['G',1], ['D',2], ['A',3], ['E',4], ['B',5], ['F#/Gb',6], ['Db',-5], ['Ab',-4], ['Eb',-3], ['Bb', -2], ['F',-1] ]\n",
    "\n",
    "major_scale         = [  1,  2,  3,  4,  5,  6,  7,  8 ]\n",
    "natural_minor_scale = [  1,  2, -3,  4,  5, -6, -7,  8 ]\n",
    "major_intervals     = [  0,  2,  2,  1,  2,  2,  2,  1 ]\n",
    "notes               = [\n",
    "    'C', 'C#/Db', 'D', 'D#/Eb', 'E', \n",
    "    'F', 'F#/Gb', 'G', 'G#/Ab', 'A', 'A#/Bb', 'B' \n",
    "]\n",
    "\n",
    "practices = [\n",
    "    'scales/intervals on guitar',\n",
    "    'scales/intervals on keyboard',\n",
    "\n",
    "]\n"
   ]
  },
  {
   "cell_type": "code",
   "execution_count": 18,
   "metadata": {},
   "outputs": [],
   "source": [
    "def relativeToneLetter(tone, offset):\n",
    "    width = ord('G') - ord('A') + 1\n",
    "    i = ord(tone[0].upper()) + offset\n",
    "    if (i < ord('A')): i += width\n",
    "    if (i > ord('G')): i -= width\n",
    "    return chr(i)\n",
    "\n",
    "\n",
    "def fullToneName(tone):\n",
    "    if len(tone) < 2: return tone.upper()\n",
    "    tone_name = tone[0].upper() + tone[-1:]\n",
    "    if (tone_name[1] == 'b'):\n",
    "        tone_name = relativeToneLetter(tone_name[0],-1) + '#/' + tone_name\n",
    "    elif (tone_name[1] == '#'):\n",
    "        tone_name = tone_name + '/' + relativeToneLetter(tone_name[0],1) + 'b'\n",
    "    try:\n",
    "        i = notes.index(tone_name)\n",
    "        return tone_name\n",
    "    except ValueError:\n",
    "        return 'X'\n"
   ]
  },
  {
   "cell_type": "code",
   "execution_count": 21,
   "metadata": {},
   "outputs": [],
   "source": [
    "# Take a scale as an array of strings, and select any split note names\n",
    "# like \"C#/Db\" to create a well-ordered scale\n",
    "def adjustScale(scale):\n",
    "    root = scale[0]\n",
    "    if root == 'F' or (len(root) > 1 and root[1] == 'b'):\n",
    "        flat = True\n",
    "    else:\n",
    "        flat = False\n",
    "    letter = root[0]\n",
    "    new_scale = []\n",
    "    for i, tone in enumerate(scale):\n",
    "        if i == 0:\n",
    "            new_scale.append(root)\n",
    "        else:\n",
    "            note = tone\n",
    "            if tone[0] != relativeToneLetter(letter,1):\n",
    "                if len(tone) == 1:\n",
    "                    if tone[0] == letter:\n",
    "                        note = relativeToneLetter(letter,1) + 'b'\n",
    "                    else:\n",
    "                        note = relativeToneLetter(letter,1) + '#'\n",
    "                else:\n",
    "                    note = tone.split('/')[1]\n",
    "            elif len(tone) > 2:\n",
    "                note = tone.split('/')[1 if flat else 0]\n",
    "            letter = note[0]\n",
    "            new_scale.append(note)\n",
    "    return new_scale\n"
   ]
  },
  {
   "cell_type": "code",
   "execution_count": 25,
   "metadata": {},
   "outputs": [],
   "source": [
    "# Return a scale as an array of strings for a given 'root' note string\n",
    "# like \"Ab\", and a 'pattern' designation like Pattern.major. The major\n",
    "# diatonic scale will be returned if the 'pattern' argument is left out.\n",
    "def getScale(root, pattern=Patterns.major):\n",
    "    scale = []\n",
    "    tone = notes.index(fullToneName(root))\n",
    "\n",
    "    scale_pattern = major_scale\n",
    "    if (pattern == Patterns.natural_minor):\n",
    "        scale_pattern = natural_minor_scale\n",
    "\n",
    "    for degree in scale_pattern:\n",
    "        tone = (tone + major_intervals[abs(degree)-1]) % len(notes)\n",
    "        scale.append(notes[ (tone-1) if degree < 0 else tone ])\n",
    "\n",
    "    scale[0] = root.upper()\n",
    "    if len(scale[0]) > 1 and scale[0][1] == 'B':\n",
    "        scale[0] = scale[0][0] + 'b'\n",
    "\n",
    "    return adjustScale(scale)\n"
   ]
  },
  {
   "cell_type": "markdown",
   "metadata": {},
   "source": [
    "## Reference\n",
    "\n",
    "<pre>\n",
    "Major scale: 1 2 3 4 5 6 7 8'\n",
    "  intervals:  W W H W W W H\n",
    "\n",
    "Natural minor scale: 1 2 <sup>b</sup>3 4 5 6 7 8'\n",
    "          intervals:  W H  W W H W W\n",
    "</pre>\n",
    "\n",
    "A *natural* minor scale can be built from the same set of notes as a major scale. The key of the natural minor is the 6<sup>th</sup> degree of the major scale.\n"
   ]
  },
  {
   "cell_type": "markdown",
   "metadata": {},
   "source": [
    "## Get a Random Key"
   ]
  },
  {
   "cell_type": "code",
   "execution_count": 28,
   "metadata": {
    "tags": []
   },
   "outputs": [
    {
     "output_type": "stream",
     "name": "stdout",
     "text": "D\n"
    }
   ],
   "source": [
    "key = random.randint(0, len(keys)-1)\n",
    "print(keys[key][0])\n"
   ]
  },
  {
   "cell_type": "code",
   "execution_count": 29,
   "metadata": {},
   "outputs": [
    {
     "output_type": "execute_result",
     "data": {
      "text/plain": "['C', 'D', 'E', 'F', 'G', 'A', 'B', 'C']"
     },
     "metadata": {},
     "execution_count": 29
    }
   ],
   "source": [
    "getScale('C')"
   ]
  },
  {
   "cell_type": "code",
   "execution_count": null,
   "metadata": {},
   "outputs": [],
   "source": []
  }
 ],
 "metadata": {
  "kernelspec": {
   "display_name": "Python 3",
   "language": "python",
   "name": "python3"
  },
  "language_info": {
   "codemirror_mode": {
    "name": "ipython",
    "version": 3
   },
   "file_extension": ".py",
   "mimetype": "text/x-python",
   "name": "python",
   "nbconvert_exporter": "python",
   "pygments_lexer": "ipython3",
   "version": "3.8.3-final"
  }
 },
 "nbformat": 4,
 "nbformat_minor": 4
}