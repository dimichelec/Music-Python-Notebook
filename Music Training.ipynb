{
 "cells": [
  {
   "cell_type": "markdown",
   "metadata": {},
   "source": [
    "# General Code"
   ]
  },
  {
   "cell_type": "markdown",
   "metadata": {},
   "source": [
    "## Startup Code"
   ]
  },
  {
   "cell_type": "code",
   "execution_count": 37,
   "metadata": {},
   "outputs": [],
   "source": [
    "import random\n",
    "from enum import Enum\n",
    "import math\n",
    "import webbrowser\n",
    "import ipywidgets as widgets\n",
    "import urllib\n",
    "import pyfiglet\n"
   ]
  },
  {
   "cell_type": "code",
   "execution_count": 38,
   "metadata": {},
   "outputs": [],
   "source": [
    "class Patterns(Enum):\n",
    "    major = 1\n",
    "    natural_minor = 2\n"
   ]
  },
  {
   "cell_type": "code",
   "execution_count": 39,
   "metadata": {},
   "outputs": [
    {
     "data": {
      "text/html": [
       "<!-- make buttons prettier -->\n",
       "<style>\n",
       ".cell-output-ipywidget-background {\n",
       "   background-color: transparent !important;\n",
       "}\n",
       ".jp-OutputArea-output {\n",
       "   background-color: transparent;\n",
       "}  \n",
       "</style>\n"
      ],
      "text/plain": [
       "<IPython.core.display.HTML object>"
      ]
     },
     "metadata": {},
     "output_type": "display_data"
    }
   ],
   "source": [
    "%%html\n",
    "<!-- make buttons prettier -->\n",
    "<style>\n",
    ".cell-output-ipywidget-background {\n",
    "   background-color: transparent !important;\n",
    "}\n",
    ".jp-OutputArea-output {\n",
    "   background-color: transparent;\n",
    "}  \n",
    "</style>"
   ]
  },
  {
   "cell_type": "code",
   "execution_count": 40,
   "metadata": {},
   "outputs": [],
   "source": [
    "notes      = ['C', 'C#/Db', 'D', 'D#/Eb', 'E', 'F', 'F#/Gb', 'G', 'G#/Ab', 'A', 'A#/Bb', 'B']\n",
    "note_names = ['C', 'C#', 'Db', 'D', 'D#', 'Eb', 'E', 'F', 'F#', 'Gb', 'G', 'G#', 'Ab', 'A', 'A#', 'Bb', 'B']\n",
    "keys       = [['C',0], ['G',1], ['D',2], ['A',3], ['E',4], ['B',5], ['F#/Gb',6], ['Db',-5], ['Ab',-4], ['Eb',-3], ['Bb', -2], ['F',-1]]\n",
    "intervals  = ['P1','m2','M2','m3','M3','P4','a4/d5','P5','m6','M6','m7','M7']\n",
    "modes      = ['Ionian', 'Dorian', 'Phrygian', 'Lydian', 'Mixolydian', 'Aeolian', 'Locrian']\n",
    "\n",
    "major_scale         = [  1,  2,  3,  4,  5,  6,  7,  8 ]\n",
    "natural_minor_scale = [  1,  2, -3,  4,  5, -6, -7,  8 ]\n",
    "major_intervals     = [  0,  2,  2,  1,  2,  2,  2,  1 ]\n",
    "\n",
    "practices = [\n",
    "    'scales/intervals on guitar',\n",
    "    'scales/intervals on keyboard',\n",
    "]\n"
   ]
  },
  {
   "cell_type": "code",
   "execution_count": 41,
   "metadata": {},
   "outputs": [],
   "source": [
    "# Return the simple offset from the tone name string entry and integer offset (i.e., ['cb',-3] ==> 'G' )\n",
    "def relativeToneLetter(tone, offset):\n",
    "    width = ord('G') - ord('A') + 1\n",
    "    i = ord(tone[0].upper()) + offset\n",
    "    if (i < ord('A')): i += width\n",
    "    if (i > ord('G')): i -= width\n",
    "    return chr(i)\n",
    "\n",
    "\n",
    "# Return the full tone name from a string entry (i.e., 'bb' ==> 'A#/Bb')\n",
    "def fullToneName(tone):\n",
    "    if len(tone) < 2: return tone.upper()\n",
    "    tone_name = tone[0].upper() + tone[-1:]\n",
    "    if (tone_name[1] == 'b'):\n",
    "        tone_name = relativeToneLetter(tone_name[0],-1) + '#/' + tone_name\n",
    "    elif (tone_name[1] == '#'):\n",
    "        tone_name = tone_name + '/' + relativeToneLetter(tone_name[0],1) + 'b'\n",
    "    try:\n",
    "        i = notes.index(tone_name)\n",
    "        return tone_name\n",
    "    except ValueError:\n",
    "        return 'X'\n"
   ]
  },
  {
   "cell_type": "code",
   "execution_count": 42,
   "metadata": {},
   "outputs": [],
   "source": [
    "# Take a scale as an array of strings, and select any split note names\n",
    "# like \"C#/Db\" to create a well-ordered scale\n",
    "def adjustScale(scale):\n",
    "    root = scale[0]\n",
    "    if root == 'F' or (len(root) > 1 and root[1] == 'b'):\n",
    "        flat = True\n",
    "    else:\n",
    "        flat = False\n",
    "    letter = root[0]\n",
    "    new_scale = []\n",
    "    for i, tone in enumerate(scale):\n",
    "        if i == 0:\n",
    "            new_scale.append(root)\n",
    "        else:\n",
    "            note = tone\n",
    "            if tone[0] != relativeToneLetter(letter,1):\n",
    "                if len(tone) == 1:\n",
    "                    if tone[0] == letter:\n",
    "                        note = relativeToneLetter(letter,1) + 'b'\n",
    "                    else:\n",
    "                        note = relativeToneLetter(letter,1) + '#'\n",
    "                else:\n",
    "                    note = tone.split('/')[1]\n",
    "            elif len(tone) > 2:\n",
    "                note = tone.split('/')[1 if flat else 0]\n",
    "            letter = note[0]\n",
    "            new_scale.append(note)\n",
    "    return new_scale\n"
   ]
  },
  {
   "cell_type": "markdown",
   "metadata": {},
   "source": [
    "## Basic Functions"
   ]
  },
  {
   "cell_type": "code",
   "execution_count": 43,
   "metadata": {},
   "outputs": [],
   "source": [
    "# Return a scale as an array of strings for a given 'root' note string\n",
    "# like \"Ab\", and a 'pattern' designation like Pattern.major. The major\n",
    "# diatonic scale will be returned if the 'pattern' argument is left out.\n",
    "def getScale(root, pattern=Patterns.major):\n",
    "    scale = []\n",
    "    tone = notes.index(fullToneName(root))\n",
    "\n",
    "    scale_pattern = major_scale\n",
    "    if (pattern == Patterns.natural_minor):\n",
    "        scale_pattern = natural_minor_scale\n",
    "\n",
    "    for degree in scale_pattern:\n",
    "        tone = (tone + major_intervals[abs(degree)-1]) % len(notes)\n",
    "        scale.append(notes[ (tone-1) if degree < 0 else tone ])\n",
    "\n",
    "    scale[0] = root.upper()\n",
    "    if len(scale[0]) > 1 and scale[0][1] == 'B':\n",
    "        scale[0] = scale[0][0] + 'b'\n",
    "\n",
    "    return adjustScale(scale)\n",
    "\n",
    "\n",
    "# Returns frequency of a note in Hz (i.e., the freq of middle C would be freq('C',4) ==> 261.625...)\n",
    "def noteToFreq(note, octave):\n",
    "    x = 12*(octave-4)+notes.index(note)-9\n",
    "    return 440.*(2**(1./12.))**x\n",
    "\n",
    "\n",
    "# Returns the closest note letter, octave, and deviation from center (in cent) to a given frequency (i.e., note(261.3) ==> ('C', 4, -2.1556...))\n",
    "def freqToNote(freq_in):\n",
    "    x = math.log(freq_in / 440., 2**(1./12.))\n",
    "    octave = int(4 + (x + 9)/12)\n",
    "    note_a = int((x + 9) % 12)\n",
    "\n",
    "    f = noteToFreq(notes[note_a],octave)\n",
    "    cent = 1200.*math.log2(freq_in/f)\n",
    "    if abs(cent) > 50:\n",
    "        note_a = (note_a + 1) if note_a < 11 else 0\n",
    "        octave += 1 if note_a == 0 else 0\n",
    "        f = noteToFreq(notes[note_a],octave)\n",
    "        cent = 1200.*math.log2(freq_in/f)\n",
    "\n",
    "    return(notes[note_a], octave, cent)\n",
    "\n",
    "# Returns the index into the notes[] array for the given note name (i.e., note_index('bb') ==> 10)\n",
    "def noteIndex(note):\n",
    "    if len(note) == 1:\n",
    "        return notes.index(note.upper())\n",
    "    else:\n",
    "        a = note[0].upper() + note[1]\n",
    "        for i in range(len(notes)):\n",
    "            if notes[i].find(a) != -1:\n",
    "                return i\n",
    "    return -1\n",
    "\n",
    "# Returns the musical interval between the given root and target notes (i.e., interval('bb','g#') ==> 'm7')\n",
    "def getInterval(root, note):\n",
    "    ir = noteIndex(root)\n",
    "    iv = noteIndex(note)\n",
    "    d = ((iv - ir) + (12 if ((iv - ir) < 0) else 0)) % 12\n",
    "    return intervals[d]"
   ]
  },
  {
   "cell_type": "markdown",
   "metadata": {},
   "source": [
    "### Get a Random Key and its Major Scale"
   ]
  },
  {
   "cell_type": "code",
   "execution_count": 44,
   "metadata": {
    "tags": []
   },
   "outputs": [
    {
     "name": "stdout",
     "output_type": "stream",
     "text": [
      "F#/Gb\n"
     ]
    },
    {
     "ename": "ValueError",
     "evalue": "'X' is not in list",
     "output_type": "error",
     "traceback": [
      "\u001b[1;31m---------------------------------------------------------------------------\u001b[0m",
      "\u001b[1;31mValueError\u001b[0m                                Traceback (most recent call last)",
      "\u001b[1;32m<ipython-input-44-0d05f3d5fb5c>\u001b[0m in \u001b[0;36m<module>\u001b[1;34m\u001b[0m\n\u001b[0;32m      2\u001b[0m \u001b[0mprint\u001b[0m\u001b[1;33m(\u001b[0m\u001b[0mkeys\u001b[0m\u001b[1;33m[\u001b[0m\u001b[0mkey\u001b[0m\u001b[1;33m]\u001b[0m\u001b[1;33m[\u001b[0m\u001b[1;36m0\u001b[0m\u001b[1;33m]\u001b[0m\u001b[1;33m)\u001b[0m\u001b[1;33m\u001b[0m\u001b[1;33m\u001b[0m\u001b[0m\n\u001b[0;32m      3\u001b[0m \u001b[1;33m\u001b[0m\u001b[0m\n\u001b[1;32m----> 4\u001b[1;33m \u001b[0mgetScale\u001b[0m\u001b[1;33m(\u001b[0m\u001b[0mkeys\u001b[0m\u001b[1;33m[\u001b[0m\u001b[0mkey\u001b[0m\u001b[1;33m]\u001b[0m\u001b[1;33m[\u001b[0m\u001b[1;36m0\u001b[0m\u001b[1;33m]\u001b[0m\u001b[1;33m)\u001b[0m\u001b[1;33m\u001b[0m\u001b[1;33m\u001b[0m\u001b[0m\n\u001b[0m",
      "\u001b[1;32m<ipython-input-43-ffa647975262>\u001b[0m in \u001b[0;36mgetScale\u001b[1;34m(root, pattern)\u001b[0m\n\u001b[0;32m      4\u001b[0m \u001b[1;32mdef\u001b[0m \u001b[0mgetScale\u001b[0m\u001b[1;33m(\u001b[0m\u001b[0mroot\u001b[0m\u001b[1;33m,\u001b[0m \u001b[0mpattern\u001b[0m\u001b[1;33m=\u001b[0m\u001b[0mPatterns\u001b[0m\u001b[1;33m.\u001b[0m\u001b[0mmajor\u001b[0m\u001b[1;33m)\u001b[0m\u001b[1;33m:\u001b[0m\u001b[1;33m\u001b[0m\u001b[1;33m\u001b[0m\u001b[0m\n\u001b[0;32m      5\u001b[0m     \u001b[0mscale\u001b[0m \u001b[1;33m=\u001b[0m \u001b[1;33m[\u001b[0m\u001b[1;33m]\u001b[0m\u001b[1;33m\u001b[0m\u001b[1;33m\u001b[0m\u001b[0m\n\u001b[1;32m----> 6\u001b[1;33m     \u001b[0mtone\u001b[0m \u001b[1;33m=\u001b[0m \u001b[0mnotes\u001b[0m\u001b[1;33m.\u001b[0m\u001b[0mindex\u001b[0m\u001b[1;33m(\u001b[0m\u001b[0mfullToneName\u001b[0m\u001b[1;33m(\u001b[0m\u001b[0mroot\u001b[0m\u001b[1;33m)\u001b[0m\u001b[1;33m)\u001b[0m\u001b[1;33m\u001b[0m\u001b[1;33m\u001b[0m\u001b[0m\n\u001b[0m\u001b[0;32m      7\u001b[0m \u001b[1;33m\u001b[0m\u001b[0m\n\u001b[0;32m      8\u001b[0m     \u001b[0mscale_pattern\u001b[0m \u001b[1;33m=\u001b[0m \u001b[0mmajor_scale\u001b[0m\u001b[1;33m\u001b[0m\u001b[1;33m\u001b[0m\u001b[0m\n",
      "\u001b[1;31mValueError\u001b[0m: 'X' is not in list"
     ]
    }
   ],
   "source": [
    "key = random.randint(0, len(keys)-1)\n",
    "print(keys[key][0])\n",
    "\n",
    "getScale(keys[key][0])\n"
   ]
  },
  {
   "cell_type": "markdown",
   "metadata": {},
   "source": [
    "# Reference"
   ]
  },
  {
   "cell_type": "markdown",
   "metadata": {},
   "source": [
    "<pre>\n",
    "Major scale: 1 2 3 4 5 6 7 8'\n",
    "  intervals:  W W H W W W H\n",
    "\n",
    "Natural minor scale: 1 2 <sup>b</sup>3 4 5 6 7 8'\n",
    "          intervals:  W H  W W H W W\n",
    "</pre>\n",
    "\n",
    "A *natural* minor scale can be built from the same set of notes as a major scale. The key of the natural minor is the 6<sup>th</sup> degree of the major scale."
   ]
  },
  {
   "cell_type": "markdown",
   "metadata": {},
   "source": [
    "### Pattern System"
   ]
  },
  {
   "cell_type": "markdown",
   "metadata": {},
   "source": [
    "<pre>\n",
    "Patterns along a string:\n",
    "  X = 0 2 4\n",
    "  Y = 0 1 3\n",
    "  Z = 0 2 3\n",
    "\n",
    "Patterns accross strings (root is on first note):\n",
    "  1 Ionian     XX (YYZZ) = Major\n",
    "  2 Dorian     ZX (XXYY)\n",
    "  3 Phrygian   YZ (ZXXX)\n",
    "  4 Lydian     XY (YZZX)\n",
    "  5 Mixolydian XXX (YYZ)\n",
    "  6 Aeolian    ZZ (XXXY) = Natural Minor\n",
    "  7 Locrian    YY (ZZXX)\n",
    "\n",
    "Rules across strings:\n",
    "  1. Move up a fret from X to Y pattern\n",
    "  2. Move up a fret from G string to B string\n",
    "\n",
    "Rules along strings:\n",
    "  1. Start next pattern on next fret from pattern X to X\n",
    "  2. Start next pattern on 2nd fret after any other patterns\n",
    "</pre>\n"
   ]
  },
  {
   "cell_type": "markdown",
   "metadata": {},
   "source": [
    "### Pentatonic Shapes"
   ]
  },
  {
   "cell_type": "markdown",
   "metadata": {},
   "source": [
    "<pre>\n",
    "<b>Major</b>\n",
    "╒═════╤══R══╤═════╤══2══╕   ╒═════╤══2══╤═════╤══3══╤═════╕   ╒══3══╤═════╤═════╤══5══╕\n",
    "╞══3══╪═════╪═════╪══5══╡   ╞═════╪══5══╪═════╪══6══╪═════╡   ╞══6══╪═════╪═════╪══R══╡\n",
    "╞══6══╪═════╪═════╪══R══╡   ╞═════╪══R══╪═════╪══2══╪═════╡   ╞══2══╪═════╪══3══╪═════╡\n",
    "╞══2══╪═════╪══3══╪═════╡   ╞══3══╪═════╪═════╪══5══╪═════╡   ╞══5══╪═════╪══6══╪═════╡\n",
    "├─────┼──5──┼─────┼──6──┤   ├─────┼──6──┼─────┼─────┼──R──┤   ├─────┼──R──┼─────┼──2──┤\n",
    "└─────┴──R──┴─────┴──2──┘   └─────┴──2──┴─────┴──3──┴─────┘   └──3──┴─────┴─────┴──5──┘\n",
    "╒═════╤══5══╤═════╤══6══╕   ╒══6══╤═════╤═════╤══R══╕\n",
    "╞═════╪══R══╪═════╪══2══╡   ╞══2══╪═════╪══3══╪═════╡\n",
    "╞══3══╪═════╪═════╪══5══╡   ╞══5══╪═════╪══6══╪═════╡\n",
    "╞══6══╪═════╪═════╪══R══╡   ╞══R══╪═════╪══2══╪═════╡\n",
    "├─────┼──2──┼─────┼──3──┤   ├──3──┼─────┼─────┼──5──┤\n",
    "└─────┴──5──┴─────┴──6──┘   └──6──┴─────┴─────┴──R──┘\n",
    "\n",
    "<b>Minor</b>\n",
    "╒══R══╤═════╤═════╤═b3══╕   ╒═════╤═b3══╤═════╤══4══╕   ╒═════╤══4══╤═════╤══5══╤═════╕\n",
    "╞══4══╪═════╪══5══╪═════╡   ╞══5══╪═════╪═════╪═b7══╡   ╞═════╪═b7══╪═════╪══R══╪═════╡\n",
    "╞═b7══╪═════╪══R══╪═════╡   ╞══R══╪═════╪═════╪═b3══╡   ╞═════╪═b3══╪═════╪══4══╪═════╡\n",
    "╞═b3══╪═════╪══4══╪═════╡   ╞══4══╪═════╪══5══╪═════╡   ╞══5══╪═════╪═════╪═b7══╪═════╡\n",
    "├──5──┼─────┼─────┼─b7──┤   ├─────┼─b7──┼─────┼──R──┤   ├─────┼──R──┼─────┼─────┼─b3──┤\n",
    "└──R──┴─────┴─────┴─b3──┘   └─────┴─b3──┴─────┴──4──┘   └─────┴──4──┴─────┴──5──┴─────┘\n",
    "╒══5══╤═════╤═════╤═b7══╕   ╒═════╤═b7══╤═════╤══R══╕\n",
    "╞══R══╪═════╪═════╪═b3══╡   ╞═════╪═b3══╪═════╪══4══╡\n",
    "╞══4══╪═════╪══5══╪═════╡   ╞══5══╪═════╪═════╪═b7══╡\n",
    "╞═b7══╪═════╪══R══╪═════╡   ╞══R══╪═════╪═════╪═b3══╡\n",
    "├─────┼─b3──┼─────┼──4──┤   ├─────┼──4──┼─────┼──5──┤\n",
    "└──5──┴─────┴─────┴─b7──┘   └─────┴─b7──┴─────┴──R──┘\n",
    "</pre>"
   ]
  },
  {
   "cell_type": "markdown",
   "metadata": {},
   "source": [
    "# What Notes are in the Harmonic Series?"
   ]
  },
  {
   "cell_type": "code",
   "execution_count": null,
   "metadata": {},
   "outputs": [
    {
     "name": "stdout",
     "output_type": "stream",
     "text": [
      "Harmonic series of middle C:\n",
      " Harm   Freq[Hz]    Note   Err    Int\n",
      "   1     261.63       C4    +0      P1\n",
      "   2     523.25       C5    -0      P1\n",
      "   3     784.88       G5    +2      P5\n",
      "   4    1046.50       C6    -0      P1\n",
      "   5    1308.13       E6   -14      M3\n",
      "   6    1569.75       G6    +2      P5\n",
      "   7    1831.38   A#/Bb6   -31      m7\n",
      "   8    2093.00       C7    -0      P1\n",
      "   9    2354.63       D7    +4      M2\n",
      "  10    2616.26       E7   -14      M3\n",
      "  11    2877.88   F#/Gb7   -49   a4/d5\n",
      "  12    3139.51       G7    +2      P5\n",
      "  13    3401.13   G#/Ab7   +41      m6\n",
      "  14    3662.76   A#/Bb7   -31      m7\n",
      "  15    3924.38       B7   -12      M7\n",
      "...\n"
     ]
    }
   ],
   "source": [
    "C4 = noteToFreq('C',4)\n",
    "\n",
    "print('Harmonic series of middle C:')\n",
    "\n",
    "print(f' Harm   Freq[Hz]    Note   Err    Int')\n",
    "for i in range(15):\n",
    "    h = i+1\n",
    "    f = C4*h\n",
    "    n,o,c = freqToNote(f)\n",
    "    iv = getInterval('C',n)\n",
    "    print(f'  {h:2d}    {f:7.2f}   {n:>5s}{o}   {c:+3.0f}   {iv:>5s}')\n",
    "\n",
    "print('...')\n"
   ]
  },
  {
   "cell_type": "markdown",
   "metadata": {},
   "source": [
    "# Get a Random Modal Key and Search for a Backing Track"
   ]
  },
  {
   "cell_type": "code",
   "execution_count": 46,
   "metadata": {},
   "outputs": [
    {
     "name": "stdout",
     "output_type": "stream",
     "text": [
      "   ______   ____            _           \n",
      "  / ____/  /  _/___  ____  (_)___ _____ \n",
      " / /       / // __ \\/ __ \\/ / __ `/ __ \\\n",
      "/ /___   _/ // /_/ / / / / / /_/ / / / /\n",
      "\\____/  /___/\\____/_/ /_/_/\\__,_/_/ /_/ \n",
      "                                        \n",
      "\n"
     ]
    },
    {
     "data": {
      "application/vnd.jupyter.widget-view+json": {
       "model_id": "51e5e211a58d4db4bb3a9a2b7d56dfae",
       "version_major": 2,
       "version_minor": 0
      },
      "text/plain": [
       "Button(description='Find a backing track', style=ButtonStyle())"
      ]
     },
     "metadata": {},
     "output_type": "display_data"
    }
   ],
   "source": [
    "key = random.randint(0, len(note_names)-1)\n",
    "mode = random.randint(0, len(modes)-1)\n",
    "\n",
    "modal_key = note_names[key] + \" \" + modes[mode]\n",
    "print(pyfiglet.figlet_format(modal_key,font='slant'))\n",
    "\n",
    "url = \"https://www.youtube.com/results?search_query=backing+track+\" + urllib.parse.quote(note_names[key]) + \"+\" + modes[mode]\n",
    "\n",
    "button = widgets.Button(description='Find a backing track')\n",
    "button.on_click(lambda b: webbrowser.open(url))\n",
    "button"
   ]
  }
 ],
 "metadata": {
  "kernelspec": {
   "display_name": "Python 3.8.10 64-bit (microsoft store)",
   "language": "python",
   "name": "python3"
  },
  "language_info": {
   "codemirror_mode": {
    "name": "ipython",
    "version": 3
   },
   "file_extension": ".py",
   "mimetype": "text/x-python",
   "name": "python",
   "nbconvert_exporter": "python",
   "pygments_lexer": "ipython3",
   "version": "3.8.10"
  },
  "vscode": {
   "interpreter": {
    "hash": "02d2d2af66a91fc4cc06ab9c2906281cc165b250d205ac7ac94a12c83b32f3cb"
   }
  }
 },
 "nbformat": 4,
 "nbformat_minor": 4
}
